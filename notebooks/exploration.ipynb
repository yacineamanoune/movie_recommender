{
 "cells": [
  {
   "cell_type": "code",
   "execution_count": 3,
   "id": "ef41b73f",
   "metadata": {},
   "outputs": [],
   "source": [
    "import numpy as np\n",
    "import pandas as pd\n",
    "import os"
   ]
  },
  {
   "cell_type": "code",
   "execution_count": 17,
   "id": "a3b91aa0",
   "metadata": {},
   "outputs": [
    {
     "name": "stdout",
     "output_type": "stream",
     "text": [
      "['movie_data.csv', 'ratings_export.csv', 'users_export.csv']\n"
     ]
    }
   ],
   "source": [
    "import os\n",
    "print(os.listdir('../data'))\n"
   ]
  },
  {
   "cell_type": "code",
   "execution_count": 18,
   "id": "ec71d8bc",
   "metadata": {},
   "outputs": [],
   "source": [
    "movies = pd.read_csv('../data/movie_data.csv', nrows=5)"
   ]
  },
  {
   "cell_type": "code",
   "execution_count": 19,
   "id": "8f15a23b",
   "metadata": {},
   "outputs": [
    {
     "data": {
      "application/vnd.microsoft.datawrangler.viewer.v0+json": {
       "columns": [
        {
         "name": "index",
         "rawType": "int64",
         "type": "integer"
        },
        {
         "name": "_id",
         "rawType": "object",
         "type": "string"
        },
        {
         "name": "genres",
         "rawType": "object",
         "type": "string"
        },
        {
         "name": "image_url",
         "rawType": "object",
         "type": "unknown"
        },
        {
         "name": "imdb_id",
         "rawType": "object",
         "type": "unknown"
        },
        {
         "name": "imdb_link",
         "rawType": "object",
         "type": "unknown"
        },
        {
         "name": "movie_id",
         "rawType": "object",
         "type": "string"
        },
        {
         "name": "movie_title",
         "rawType": "object",
         "type": "string"
        },
        {
         "name": "original_language",
         "rawType": "object",
         "type": "string"
        },
        {
         "name": "overview",
         "rawType": "object",
         "type": "string"
        },
        {
         "name": "popularity",
         "rawType": "float64",
         "type": "float"
        },
        {
         "name": "production_countries",
         "rawType": "object",
         "type": "string"
        },
        {
         "name": "release_date",
         "rawType": "object",
         "type": "string"
        },
        {
         "name": "runtime",
         "rawType": "int64",
         "type": "integer"
        },
        {
         "name": "spoken_languages",
         "rawType": "object",
         "type": "string"
        },
        {
         "name": "tmdb_id",
         "rawType": "int64",
         "type": "integer"
        },
        {
         "name": "tmdb_link",
         "rawType": "object",
         "type": "string"
        },
        {
         "name": "vote_average",
         "rawType": "float64",
         "type": "float"
        },
        {
         "name": "vote_count",
         "rawType": "int64",
         "type": "integer"
        },
        {
         "name": "year_released",
         "rawType": "int64",
         "type": "integer"
        }
       ],
       "ref": "e9689a29-5813-497e-8b9f-58d7fcefba67",
       "rows": [
        [
         "0",
         "5fc85f606758f69634496fd3",
         "[\"Music\",\"Animation\"]",
         "film-poster/4/6/4/4/4/0/464440-football-freaks-0-230-0-345-crop",
         null,
         null,
         "football-freaks",
         "Football Freaks",
         "en",
         "Football crazy, football mad. Don’t watch this off-beat jukebox cartoon expecting any conventional soccer action. Equal parts Disney, Dali and Duchamp, this abstract mix of black and white photos and alternative comix style animation is accompanied by a medley of doo-wop classics and documentary soundbites.  The film is certainly an extreme departure for those familiar with the more conventional output of the Halas & Batchelor studio, best known for their feature-length version of George Orwell’s Animal Farm (1954). Paul Vester was one of a number of sixties art school graduates that brought a mix of pop art and illustration influences to the company whilst it was undergoing a brief change in its ownership. As a warning, in keeping with its progressive, adult style there is some brief nudity at the end of the film.",
         "0.6",
         "[\"United Kingdom\"]",
         "1971-12-05",
         "0",
         "[]",
         "535272",
         "https://www.themoviedb.org/movie/535272/",
         "0.0",
         "0",
         "1971"
        ],
        [
         "1",
         "5fc85ff26758f696344ace0c",
         "[]",
         "film-poster/2/4/5/5/0/0/245500-aftermath-0-230-0-345-crop",
         "tt0586129",
         "http://www.imdb.com/title/tt0586129/maindetails",
         "aftermath-1960",
         "Aftermath",
         "en",
         "Aftermath was the pilot for an unsold TV series called The Code of Jonathan West; it aired as part of The General Electric Theater. The film takes place just after the Civil War, in a small southern town – war-ravaged, impoverished, and seething with hatred and resentment.",
         "0.6",
         "[]",
         "1960-04-17",
         "22",
         "[]",
         "318331",
         "https://www.themoviedb.org/movie/318331/",
         "8.0",
         "1",
         "1960"
        ],
        [
         "2",
         "5fc85f606758f69634496fcd",
         "[\"Drama\"]",
         "film-poster/9/3/3/1/8/93318-where-chimneys-are-seen-0-230-0-345-crop",
         "tt0045731",
         "http://www.imdb.com/title/tt0045731/maindetails",
         "where-chimneys-are-seen",
         "Where Chimneys Are Seen",
         "ja",
         "Gosho’s most celebrated film both in Japan and the West, Where Chimneys Are Seen is perhaps the most compelling example of his concern for, and insights into, the everyday lives of lower-middle-class people. Based on Rinzo Shiina’s novel of the absurd, the film depicts the lives of two couples against the backdrop of Tokyo’s growing industrialization during the 1950s.",
         "1.568",
         "[\"Japan\"]",
         "1953-03-05",
         "108",
         "[\"日本語\"]",
         "117779",
         "https://www.themoviedb.org/movie/117779/",
         "6.6",
         "10",
         "1953"
        ],
        [
         "3",
         "5fc85f606758f69634496fd1",
         "[\"Drama\"]",
         null,
         "tt0187327",
         "http://www.imdb.com/title/tt0187327/maindetails",
         "the-musicians-daughter",
         "The Musician's Daughter",
         "en",
         "Carl Wagner's good wife was dying. His heart bled at the thought of losing her, his life-long loyal helpmate. And his opera was almost completed, after spending months of weary hours to make it perfect. A pretty daughter tried in vain to brighten the overhanging gloom. Finally the composer, after a superhuman effort, and with a soul filled with sorrow, finished the last act of his score and hurried away to the impresario for a hearing. Here he was assured of an immediate reading and the return to his humble tenement was made with a much lighter heart. The doctor paid another visit to his patient and left a prescription to be filled. Carl reached home and realized how much depended upon the medicine ordered to possibly save a life most dear. Taking his cherished violin, the only article of value remaining, he rushed off to the pawnbroker and negotiated a loan.",
         "0.6",
         "[\"United States of America\"]",
         "1911-12-12",
         "15",
         "[]",
         "560377",
         "https://www.themoviedb.org/movie/560377/",
         "0.0",
         "0",
         "1911"
        ],
        [
         "4",
         "5fc85f606758f69634496fd4",
         "[\"Documentary\"]",
         "film-poster/4/5/4/6/0/3/454603-50-years-of-fabulous-0-230-0-345-crop",
         "tt4769914",
         "http://www.imdb.com/title/tt4769914/maindetails",
         "50-years-of-fabulous",
         "50 Years of Fabulous",
         "en",
         "50 Years of Fabulous recounts the rich history of the Imperial Council, the oldest LGBT charity organization in the world. Founded in San Francisco by renown activist, drag queen and performer Jose Sarria, the Council has helped shaped LGBT life and social history in San Francisco and beyond throughout the last five decades. Sarria was also the first openly gay man to run for political office in the United States in 1961.  From its genesis as a critical public space for the community and capacity building of LGBT San Franciscans, to its vital role in the advocacy for LGBT human rights, 50 YEARS OF FABULOUS documents the full scope of the organization’s historical evolution up to its contemporary struggle in finding relevance -- both in the wake of social progress it has helped foster, and in light of a newly empowered political coalition committed to rolling back a half-century of civil rights achievements.",
         "0.6",
         "[]",
         "2018-05-17",
         "75",
         "[]",
         "525187",
         "https://www.themoviedb.org/movie/525187/",
         "0.0",
         "0",
         "2018"
        ]
       ],
       "shape": {
        "columns": 19,
        "rows": 5
       }
      },
      "text/html": [
       "<div>\n",
       "<style scoped>\n",
       "    .dataframe tbody tr th:only-of-type {\n",
       "        vertical-align: middle;\n",
       "    }\n",
       "\n",
       "    .dataframe tbody tr th {\n",
       "        vertical-align: top;\n",
       "    }\n",
       "\n",
       "    .dataframe thead th {\n",
       "        text-align: right;\n",
       "    }\n",
       "</style>\n",
       "<table border=\"1\" class=\"dataframe\">\n",
       "  <thead>\n",
       "    <tr style=\"text-align: right;\">\n",
       "      <th></th>\n",
       "      <th>_id</th>\n",
       "      <th>genres</th>\n",
       "      <th>image_url</th>\n",
       "      <th>imdb_id</th>\n",
       "      <th>imdb_link</th>\n",
       "      <th>movie_id</th>\n",
       "      <th>movie_title</th>\n",
       "      <th>original_language</th>\n",
       "      <th>overview</th>\n",
       "      <th>popularity</th>\n",
       "      <th>production_countries</th>\n",
       "      <th>release_date</th>\n",
       "      <th>runtime</th>\n",
       "      <th>spoken_languages</th>\n",
       "      <th>tmdb_id</th>\n",
       "      <th>tmdb_link</th>\n",
       "      <th>vote_average</th>\n",
       "      <th>vote_count</th>\n",
       "      <th>year_released</th>\n",
       "    </tr>\n",
       "  </thead>\n",
       "  <tbody>\n",
       "    <tr>\n",
       "      <th>0</th>\n",
       "      <td>5fc85f606758f69634496fd3</td>\n",
       "      <td>[\"Music\",\"Animation\"]</td>\n",
       "      <td>film-poster/4/6/4/4/4/0/464440-football-freaks...</td>\n",
       "      <td>NaN</td>\n",
       "      <td>NaN</td>\n",
       "      <td>football-freaks</td>\n",
       "      <td>Football Freaks</td>\n",
       "      <td>en</td>\n",
       "      <td>Football crazy, football mad. Don’t watch this...</td>\n",
       "      <td>0.600</td>\n",
       "      <td>[\"United Kingdom\"]</td>\n",
       "      <td>1971-12-05</td>\n",
       "      <td>0</td>\n",
       "      <td>[]</td>\n",
       "      <td>535272</td>\n",
       "      <td>https://www.themoviedb.org/movie/535272/</td>\n",
       "      <td>0.0</td>\n",
       "      <td>0</td>\n",
       "      <td>1971</td>\n",
       "    </tr>\n",
       "    <tr>\n",
       "      <th>1</th>\n",
       "      <td>5fc85ff26758f696344ace0c</td>\n",
       "      <td>[]</td>\n",
       "      <td>film-poster/2/4/5/5/0/0/245500-aftermath-0-230...</td>\n",
       "      <td>tt0586129</td>\n",
       "      <td>http://www.imdb.com/title/tt0586129/maindetails</td>\n",
       "      <td>aftermath-1960</td>\n",
       "      <td>Aftermath</td>\n",
       "      <td>en</td>\n",
       "      <td>Aftermath was the pilot for an unsold TV serie...</td>\n",
       "      <td>0.600</td>\n",
       "      <td>[]</td>\n",
       "      <td>1960-04-17</td>\n",
       "      <td>22</td>\n",
       "      <td>[]</td>\n",
       "      <td>318331</td>\n",
       "      <td>https://www.themoviedb.org/movie/318331/</td>\n",
       "      <td>8.0</td>\n",
       "      <td>1</td>\n",
       "      <td>1960</td>\n",
       "    </tr>\n",
       "    <tr>\n",
       "      <th>2</th>\n",
       "      <td>5fc85f606758f69634496fcd</td>\n",
       "      <td>[\"Drama\"]</td>\n",
       "      <td>film-poster/9/3/3/1/8/93318-where-chimneys-are...</td>\n",
       "      <td>tt0045731</td>\n",
       "      <td>http://www.imdb.com/title/tt0045731/maindetails</td>\n",
       "      <td>where-chimneys-are-seen</td>\n",
       "      <td>Where Chimneys Are Seen</td>\n",
       "      <td>ja</td>\n",
       "      <td>Gosho’s most celebrated film both in Japan and...</td>\n",
       "      <td>1.568</td>\n",
       "      <td>[\"Japan\"]</td>\n",
       "      <td>1953-03-05</td>\n",
       "      <td>108</td>\n",
       "      <td>[\"日本語\"]</td>\n",
       "      <td>117779</td>\n",
       "      <td>https://www.themoviedb.org/movie/117779/</td>\n",
       "      <td>6.6</td>\n",
       "      <td>10</td>\n",
       "      <td>1953</td>\n",
       "    </tr>\n",
       "    <tr>\n",
       "      <th>3</th>\n",
       "      <td>5fc85f606758f69634496fd1</td>\n",
       "      <td>[\"Drama\"]</td>\n",
       "      <td>NaN</td>\n",
       "      <td>tt0187327</td>\n",
       "      <td>http://www.imdb.com/title/tt0187327/maindetails</td>\n",
       "      <td>the-musicians-daughter</td>\n",
       "      <td>The Musician's Daughter</td>\n",
       "      <td>en</td>\n",
       "      <td>Carl Wagner's good wife was dying. His heart b...</td>\n",
       "      <td>0.600</td>\n",
       "      <td>[\"United States of America\"]</td>\n",
       "      <td>1911-12-12</td>\n",
       "      <td>15</td>\n",
       "      <td>[]</td>\n",
       "      <td>560377</td>\n",
       "      <td>https://www.themoviedb.org/movie/560377/</td>\n",
       "      <td>0.0</td>\n",
       "      <td>0</td>\n",
       "      <td>1911</td>\n",
       "    </tr>\n",
       "    <tr>\n",
       "      <th>4</th>\n",
       "      <td>5fc85f606758f69634496fd4</td>\n",
       "      <td>[\"Documentary\"]</td>\n",
       "      <td>film-poster/4/5/4/6/0/3/454603-50-years-of-fab...</td>\n",
       "      <td>tt4769914</td>\n",
       "      <td>http://www.imdb.com/title/tt4769914/maindetails</td>\n",
       "      <td>50-years-of-fabulous</td>\n",
       "      <td>50 Years of Fabulous</td>\n",
       "      <td>en</td>\n",
       "      <td>50 Years of Fabulous recounts the rich history...</td>\n",
       "      <td>0.600</td>\n",
       "      <td>[]</td>\n",
       "      <td>2018-05-17</td>\n",
       "      <td>75</td>\n",
       "      <td>[]</td>\n",
       "      <td>525187</td>\n",
       "      <td>https://www.themoviedb.org/movie/525187/</td>\n",
       "      <td>0.0</td>\n",
       "      <td>0</td>\n",
       "      <td>2018</td>\n",
       "    </tr>\n",
       "  </tbody>\n",
       "</table>\n",
       "</div>"
      ],
      "text/plain": [
       "                        _id                 genres  \\\n",
       "0  5fc85f606758f69634496fd3  [\"Music\",\"Animation\"]   \n",
       "1  5fc85ff26758f696344ace0c                     []   \n",
       "2  5fc85f606758f69634496fcd              [\"Drama\"]   \n",
       "3  5fc85f606758f69634496fd1              [\"Drama\"]   \n",
       "4  5fc85f606758f69634496fd4        [\"Documentary\"]   \n",
       "\n",
       "                                           image_url    imdb_id  \\\n",
       "0  film-poster/4/6/4/4/4/0/464440-football-freaks...        NaN   \n",
       "1  film-poster/2/4/5/5/0/0/245500-aftermath-0-230...  tt0586129   \n",
       "2  film-poster/9/3/3/1/8/93318-where-chimneys-are...  tt0045731   \n",
       "3                                                NaN  tt0187327   \n",
       "4  film-poster/4/5/4/6/0/3/454603-50-years-of-fab...  tt4769914   \n",
       "\n",
       "                                         imdb_link                 movie_id  \\\n",
       "0                                              NaN          football-freaks   \n",
       "1  http://www.imdb.com/title/tt0586129/maindetails           aftermath-1960   \n",
       "2  http://www.imdb.com/title/tt0045731/maindetails  where-chimneys-are-seen   \n",
       "3  http://www.imdb.com/title/tt0187327/maindetails   the-musicians-daughter   \n",
       "4  http://www.imdb.com/title/tt4769914/maindetails     50-years-of-fabulous   \n",
       "\n",
       "               movie_title original_language  \\\n",
       "0          Football Freaks                en   \n",
       "1                Aftermath                en   \n",
       "2  Where Chimneys Are Seen                ja   \n",
       "3  The Musician's Daughter                en   \n",
       "4     50 Years of Fabulous                en   \n",
       "\n",
       "                                            overview  popularity  \\\n",
       "0  Football crazy, football mad. Don’t watch this...       0.600   \n",
       "1  Aftermath was the pilot for an unsold TV serie...       0.600   \n",
       "2  Gosho’s most celebrated film both in Japan and...       1.568   \n",
       "3  Carl Wagner's good wife was dying. His heart b...       0.600   \n",
       "4  50 Years of Fabulous recounts the rich history...       0.600   \n",
       "\n",
       "           production_countries release_date  runtime spoken_languages  \\\n",
       "0            [\"United Kingdom\"]   1971-12-05        0               []   \n",
       "1                            []   1960-04-17       22               []   \n",
       "2                     [\"Japan\"]   1953-03-05      108          [\"日本語\"]   \n",
       "3  [\"United States of America\"]   1911-12-12       15               []   \n",
       "4                            []   2018-05-17       75               []   \n",
       "\n",
       "   tmdb_id                                 tmdb_link  vote_average  \\\n",
       "0   535272  https://www.themoviedb.org/movie/535272/           0.0   \n",
       "1   318331  https://www.themoviedb.org/movie/318331/           8.0   \n",
       "2   117779  https://www.themoviedb.org/movie/117779/           6.6   \n",
       "3   560377  https://www.themoviedb.org/movie/560377/           0.0   \n",
       "4   525187  https://www.themoviedb.org/movie/525187/           0.0   \n",
       "\n",
       "   vote_count  year_released  \n",
       "0           0           1971  \n",
       "1           1           1960  \n",
       "2          10           1953  \n",
       "3           0           1911  \n",
       "4           0           2018  "
      ]
     },
     "execution_count": 19,
     "metadata": {},
     "output_type": "execute_result"
    }
   ],
   "source": [
    "movies"
   ]
  },
  {
   "cell_type": "code",
   "execution_count": 22,
   "id": "51906e85",
   "metadata": {},
   "outputs": [
    {
     "name": "stderr",
     "output_type": "stream",
     "text": [
      "<>:5: SyntaxWarning: invalid escape sequence '\\k'\n",
      "<>:5: SyntaxWarning: invalid escape sequence '\\k'\n",
      "C:\\Users\\amano\\AppData\\Local\\Temp\\ipykernel_49484\\2196285556.py:5: SyntaxWarning: invalid escape sequence '\\k'\n",
      "  file_path = \"notebooks\\kaggle_data\"\n",
      "C:\\Users\\amano\\AppData\\Local\\Temp\\ipykernel_49484\\2196285556.py:8: DeprecationWarning: Use dataset_load() instead of load_dataset(). load_dataset() will be removed in a future version.\n",
      "  df = kagglehub.load_dataset(\n",
      "C:\\Users\\amano\\AppData\\Local\\Temp\\ipykernel_49484\\2196285556.py:5: SyntaxWarning: invalid escape sequence '\\k'\n",
      "  file_path = \"notebooks\\kaggle_data\"\n"
     ]
    },
    {
     "ename": "ValueError",
     "evalue": "Unsupported file extension: ''. Supported file extensions are: .csv, .tsv, .json, .jsonl, .xml, .parquet, .feather, .sqlite, .sqlite3, .db, .db3, .s3db, .dl3, .xls, .xlsx, .xlsm, .xlsb, .odf, .ods, .odt",
     "output_type": "error",
     "traceback": [
      "\u001b[31m---------------------------------------------------------------------------\u001b[39m",
      "\u001b[31mValueError\u001b[39m                                Traceback (most recent call last)",
      "\u001b[36mCell\u001b[39m\u001b[36m \u001b[39m\u001b[32mIn[22]\u001b[39m\u001b[32m, line 8\u001b[39m\n\u001b[32m      5\u001b[39m file_path = \u001b[33m\"\u001b[39m\u001b[33mnotebooks\u001b[39m\u001b[33m\\\u001b[39m\u001b[33mkaggle_data\u001b[39m\u001b[33m\"\u001b[39m\n\u001b[32m      7\u001b[39m \u001b[38;5;66;03m# Load the latest version\u001b[39;00m\n\u001b[32m----> \u001b[39m\u001b[32m8\u001b[39m df = \u001b[43mkagglehub\u001b[49m\u001b[43m.\u001b[49m\u001b[43mload_dataset\u001b[49m\u001b[43m(\u001b[49m\n\u001b[32m      9\u001b[39m \u001b[43m  \u001b[49m\u001b[43mKaggleDatasetAdapter\u001b[49m\u001b[43m.\u001b[49m\u001b[43mPANDAS\u001b[49m\u001b[43m,\u001b[49m\n\u001b[32m     10\u001b[39m \u001b[43m  \u001b[49m\u001b[33;43m\"\u001b[39;49m\u001b[33;43msamlearner/letterboxd-movie-ratings-data\u001b[39;49m\u001b[33;43m\"\u001b[39;49m\u001b[43m,\u001b[49m\n\u001b[32m     11\u001b[39m \u001b[43m  \u001b[49m\u001b[43mfile_path\u001b[49m\u001b[43m,\u001b[49m\n\u001b[32m     12\u001b[39m \u001b[43m  \u001b[49m\u001b[38;5;66;43;03m# Provide any additional arguments like \u001b[39;49;00m\n\u001b[32m     13\u001b[39m \u001b[43m  \u001b[49m\u001b[38;5;66;43;03m# sql_query or pandas_kwargs. See the \u001b[39;49;00m\n\u001b[32m     14\u001b[39m \u001b[43m  \u001b[49m\u001b[38;5;66;43;03m# documenation for more information:\u001b[39;49;00m\n\u001b[32m     15\u001b[39m \u001b[43m  \u001b[49m\u001b[38;5;66;43;03m# https://github.com/Kaggle/kagglehub/blob/main/README.md#kaggledatasetadapterpandas\u001b[39;49;00m\n\u001b[32m     16\u001b[39m \u001b[43m)\u001b[49m\n",
      "\u001b[36mFile \u001b[39m\u001b[32mc:\\Users\\amano\\Code\\movie_recommender\\.venv\\Lib\\site-packages\\kagglehub\\datasets.py:178\u001b[39m, in \u001b[36mload_dataset\u001b[39m\u001b[34m(adapter, handle, path, pandas_kwargs, sql_query, hf_kwargs)\u001b[39m\n\u001b[32m    163\u001b[39m \u001b[38;5;28;01mdef\u001b[39;00m\u001b[38;5;250m \u001b[39m\u001b[34mload_dataset\u001b[39m(\n\u001b[32m    164\u001b[39m     adapter: KaggleDatasetAdapter,\n\u001b[32m    165\u001b[39m     \u001b[38;5;66;03m# In the form of {owner_slug}/{dataset_slug} or {owner_slug}/{dataset_slug}/versions/{version_number}\u001b[39;00m\n\u001b[32m   (...)\u001b[39m\u001b[32m    171\u001b[39m     hf_kwargs: Any = \u001b[38;5;28;01mNone\u001b[39;00m,  \u001b[38;5;66;03m# noqa: ANN401\u001b[39;00m\n\u001b[32m    172\u001b[39m ) -> Any:  \u001b[38;5;66;03m# noqa: ANN401\u001b[39;00m\n\u001b[32m    173\u001b[39m     warnings.warn(\n\u001b[32m    174\u001b[39m         \u001b[33m\"\u001b[39m\u001b[33mUse dataset_load() instead of load_dataset(). load_dataset() will be removed in a future version.\u001b[39m\u001b[33m\"\u001b[39m,\n\u001b[32m    175\u001b[39m         \u001b[38;5;167;01mDeprecationWarning\u001b[39;00m,\n\u001b[32m    176\u001b[39m         stacklevel=\u001b[32m2\u001b[39m,\n\u001b[32m    177\u001b[39m     )\n\u001b[32m--> \u001b[39m\u001b[32m178\u001b[39m     \u001b[38;5;28;01mreturn\u001b[39;00m \u001b[43mdataset_load\u001b[49m\u001b[43m(\u001b[49m\u001b[43madapter\u001b[49m\u001b[43m,\u001b[49m\u001b[43m \u001b[49m\u001b[43mhandle\u001b[49m\u001b[43m,\u001b[49m\u001b[43m \u001b[49m\u001b[43mpath\u001b[49m\u001b[43m,\u001b[49m\u001b[43m \u001b[49m\u001b[43mpandas_kwargs\u001b[49m\u001b[43m=\u001b[49m\u001b[43mpandas_kwargs\u001b[49m\u001b[43m,\u001b[49m\u001b[43m \u001b[49m\u001b[43msql_query\u001b[49m\u001b[43m=\u001b[49m\u001b[43msql_query\u001b[49m\u001b[43m,\u001b[49m\u001b[43m \u001b[49m\u001b[43mhf_kwargs\u001b[49m\u001b[43m=\u001b[49m\u001b[43mhf_kwargs\u001b[49m\u001b[43m)\u001b[49m\n",
      "\u001b[36mFile \u001b[39m\u001b[32mc:\\Users\\amano\\Code\\movie_recommender\\.venv\\Lib\\site-packages\\kagglehub\\datasets.py:141\u001b[39m, in \u001b[36mdataset_load\u001b[39m\u001b[34m(adapter, handle, path, pandas_kwargs, sql_query, hf_kwargs, polars_frame_type, polars_kwargs)\u001b[39m\n\u001b[32m    138\u001b[39m \u001b[38;5;28;01melif\u001b[39;00m adapter \u001b[38;5;129;01mis\u001b[39;00m KaggleDatasetAdapter.PANDAS:\n\u001b[32m    139\u001b[39m     \u001b[38;5;28;01mimport\u001b[39;00m\u001b[38;5;250m \u001b[39m\u001b[34;01mkagglehub\u001b[39;00m\u001b[34;01m.\u001b[39;00m\u001b[34;01mpandas_datasets\u001b[39;00m  \u001b[38;5;66;03m# noqa: PLC0415\u001b[39;00m\n\u001b[32m--> \u001b[39m\u001b[32m141\u001b[39m     \u001b[38;5;28;01mreturn\u001b[39;00m \u001b[43mkagglehub\u001b[49m\u001b[43m.\u001b[49m\u001b[43mpandas_datasets\u001b[49m\u001b[43m.\u001b[49m\u001b[43mload_pandas_dataset\u001b[49m\u001b[43m(\u001b[49m\n\u001b[32m    142\u001b[39m \u001b[43m        \u001b[49m\u001b[43mhandle\u001b[49m\u001b[43m,\u001b[49m\u001b[43m \u001b[49m\u001b[43mpath\u001b[49m\u001b[43m,\u001b[49m\u001b[43m \u001b[49m\u001b[43mpandas_kwargs\u001b[49m\u001b[43m=\u001b[49m\u001b[43mpandas_kwargs\u001b[49m\u001b[43m,\u001b[49m\u001b[43m \u001b[49m\u001b[43msql_query\u001b[49m\u001b[43m=\u001b[49m\u001b[43msql_query\u001b[49m\n\u001b[32m    143\u001b[39m \u001b[43m    \u001b[49m\u001b[43m)\u001b[49m\n\u001b[32m    144\u001b[39m \u001b[38;5;28;01melif\u001b[39;00m adapter \u001b[38;5;129;01mis\u001b[39;00m KaggleDatasetAdapter.POLARS:\n\u001b[32m    145\u001b[39m     \u001b[38;5;28;01mimport\u001b[39;00m\u001b[38;5;250m \u001b[39m\u001b[34;01mkagglehub\u001b[39;00m\u001b[34;01m.\u001b[39;00m\u001b[34;01mpolars_datasets\u001b[39;00m  \u001b[38;5;66;03m# noqa: PLC0415\u001b[39;00m\n",
      "\u001b[36mFile \u001b[39m\u001b[32mc:\\Users\\amano\\Code\\movie_recommender\\.venv\\Lib\\site-packages\\kagglehub\\pandas_datasets.py:86\u001b[39m, in \u001b[36mload_pandas_dataset\u001b[39m\u001b[34m(handle, path, pandas_kwargs, sql_query)\u001b[39m\n\u001b[32m     84\u001b[39m pandas_kwargs = {} \u001b[38;5;28;01mif\u001b[39;00m pandas_kwargs \u001b[38;5;129;01mis\u001b[39;00m \u001b[38;5;28;01mNone\u001b[39;00m \u001b[38;5;28;01melse\u001b[39;00m pandas_kwargs\n\u001b[32m     85\u001b[39m file_extension = os.path.splitext(path)[\u001b[32m1\u001b[39m]\n\u001b[32m---> \u001b[39m\u001b[32m86\u001b[39m read_function = \u001b[43m_validate_read_function\u001b[49m\u001b[43m(\u001b[49m\u001b[43mfile_extension\u001b[49m\u001b[43m,\u001b[49m\u001b[43m \u001b[49m\u001b[43msql_query\u001b[49m\u001b[43m)\u001b[49m\n\u001b[32m     88\u001b[39m \u001b[38;5;66;03m# Now that everything has been validated, we can start downloading and processing\u001b[39;00m\n\u001b[32m     89\u001b[39m filepath = dataset_download(handle, path)\n",
      "\u001b[36mFile \u001b[39m\u001b[32mc:\\Users\\amano\\Code\\movie_recommender\\.venv\\Lib\\site-packages\\kagglehub\\pandas_datasets.py:108\u001b[39m, in \u001b[36m_validate_read_function\u001b[39m\u001b[34m(file_extension, sql_query)\u001b[39m\n\u001b[32m    103\u001b[39m \u001b[38;5;28;01mif\u001b[39;00m file_extension \u001b[38;5;129;01mnot\u001b[39;00m \u001b[38;5;129;01min\u001b[39;00m SUPPORTED_READ_FUNCTIONS_BY_EXTENSION:\n\u001b[32m    104\u001b[39m     extension_error_message = (\n\u001b[32m    105\u001b[39m         \u001b[33mf\u001b[39m\u001b[33m\"\u001b[39m\u001b[33mUnsupported file extension: \u001b[39m\u001b[33m'\u001b[39m\u001b[38;5;132;01m{\u001b[39;00mfile_extension\u001b[38;5;132;01m}\u001b[39;00m\u001b[33m'\u001b[39m\u001b[33m. \u001b[39m\u001b[33m\"\u001b[39m\n\u001b[32m    106\u001b[39m         \u001b[33mf\u001b[39m\u001b[33m\"\u001b[39m\u001b[33mSupported file extensions are: \u001b[39m\u001b[38;5;132;01m{\u001b[39;00m\u001b[33m'\u001b[39m\u001b[33m, \u001b[39m\u001b[33m'\u001b[39m.join(SUPPORTED_READ_FUNCTIONS_BY_EXTENSION.keys())\u001b[38;5;132;01m}\u001b[39;00m\u001b[33m\"\u001b[39m\n\u001b[32m    107\u001b[39m     )\n\u001b[32m--> \u001b[39m\u001b[32m108\u001b[39m     \u001b[38;5;28;01mraise\u001b[39;00m \u001b[38;5;167;01mValueError\u001b[39;00m(extension_error_message) \u001b[38;5;28;01mfrom\u001b[39;00m\u001b[38;5;250m \u001b[39m\u001b[38;5;28;01mNone\u001b[39;00m\n\u001b[32m    110\u001b[39m read_function = SUPPORTED_READ_FUNCTIONS_BY_EXTENSION[file_extension]\n\u001b[32m    111\u001b[39m \u001b[38;5;28;01mif\u001b[39;00m read_function \u001b[38;5;129;01mis\u001b[39;00m wrapped_read_sql_query \u001b[38;5;129;01mand\u001b[39;00m \u001b[38;5;129;01mnot\u001b[39;00m sql_query:\n",
      "\u001b[31mValueError\u001b[39m: Unsupported file extension: ''. Supported file extensions are: .csv, .tsv, .json, .jsonl, .xml, .parquet, .feather, .sqlite, .sqlite3, .db, .db3, .s3db, .dl3, .xls, .xlsx, .xlsm, .xlsb, .odf, .ods, .odt"
     ]
    }
   ],
   "source": [
    "import kagglehub\n",
    "from kagglehub import KaggleDatasetAdapter\n",
    "\n",
    "# Set the path to the file you'd like to load\n",
    "file_path = \"notebooks\\kaggle_data\"\n",
    "\n",
    "# Load the latest version\n",
    "df = kagglehub.load_dataset(\n",
    "  KaggleDatasetAdapter.PANDAS,\n",
    "  \"samlearner/letterboxd-movie-ratings-data\",\n",
    "  file_path,\n",
    "  # Provide any additional arguments like \n",
    "  # sql_query or pandas_kwargs. See the \n",
    "  # documenation for more information:\n",
    "  # https://github.com/Kaggle/kagglehub/blob/main/README.md#kaggledatasetadapterpandas\n",
    ")\n"
   ]
  }
 ],
 "metadata": {
  "kernelspec": {
   "display_name": "movie_recommender",
   "language": "python",
   "name": "python3"
  },
  "language_info": {
   "codemirror_mode": {
    "name": "ipython",
    "version": 3
   },
   "file_extension": ".py",
   "mimetype": "text/x-python",
   "name": "python",
   "nbconvert_exporter": "python",
   "pygments_lexer": "ipython3",
   "version": "3.12.8"
  }
 },
 "nbformat": 4,
 "nbformat_minor": 5
}
